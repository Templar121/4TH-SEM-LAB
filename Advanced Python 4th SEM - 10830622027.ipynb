{
 "cells": [
  {
   "cell_type": "markdown",
   "id": "9708f0e1",
   "metadata": {},
   "source": [
    "# 11.03.2024"
   ]
  },
  {
   "cell_type": "code",
   "execution_count": 6,
   "id": "7678219e",
   "metadata": {},
   "outputs": [
    {
     "name": "stdout",
     "output_type": "stream",
     "text": [
      "Enter the first number:12\n",
      "Enter the second number:54\n",
      "66\n"
     ]
    }
   ],
   "source": [
    "class sum:\n",
    "    def add(self):\n",
    "        print(a+b)\n",
    "a=int(input(\"Enter the first number:\"))\n",
    "b=int(input(\"Enter the second number:\"))\n",
    "obj1=sum()\n",
    "obj1.add()"
   ]
  },
  {
   "cell_type": "code",
   "execution_count": null,
   "id": "c049d245",
   "metadata": {},
   "outputs": [],
   "source": [
    "class cal:\n",
    "    def getdata(self):\n",
    "        self.a=int(input(\"Enter the number:\"))\n",
    "        self.b=int(input(\"Enter the number:\"))\n",
    "    def printt(self):\n",
    "        self.sum=self.a+self.b\n",
    "        print(\"Sum of the numbers:-\",self.sum)\n",
    "ob=cal()\n",
    "ob.getdata()\n",
    "ob.print()"
   ]
  },
  {
   "cell_type": "markdown",
   "id": "e5a82921",
   "metadata": {},
   "source": [
    "# 12.03.2024"
   ]
  },
  {
   "cell_type": "code",
   "execution_count": 7,
   "id": "f3cb355c",
   "metadata": {},
   "outputs": [
    {
     "name": "stdout",
     "output_type": "stream",
     "text": [
      "Asansol Engineering College\n"
     ]
    }
   ],
   "source": [
    "file = open('AIML008.txt', 'r')\n",
    "for i in file:\n",
    "    print(i)"
   ]
  },
  {
   "cell_type": "code",
   "execution_count": 8,
   "id": "6cf631d8",
   "metadata": {},
   "outputs": [
    {
     "name": "stdout",
     "output_type": "stream",
     "text": [
      "Asansol Engineering College\n"
     ]
    }
   ],
   "source": [
    "file = open('AIML008.txt', 'r')\n",
    "print(file.read())"
   ]
  },
  {
   "cell_type": "code",
   "execution_count": 12,
   "id": "bc1943f6",
   "metadata": {},
   "outputs": [
    {
     "name": "stdout",
     "output_type": "stream",
     "text": [
      "Asanso\n"
     ]
    }
   ],
   "source": [
    "file = open('AIML008.txt', 'r')\n",
    "print(file.read(6))"
   ]
  },
  {
   "cell_type": "code",
   "execution_count": 25,
   "id": "338b3002",
   "metadata": {},
   "outputs": [
    {
     "name": "stdout",
     "output_type": "stream",
     "text": [
      "Name - Subhayan Mukherjee\n",
      "Roll - 10830622027\n",
      "Dept - AIML\n"
     ]
    }
   ],
   "source": [
    "file = open('AIML008.txt', 'r')\n",
    "print(file.read())"
   ]
  },
  {
   "cell_type": "code",
   "execution_count": 36,
   "id": "5ea40be0",
   "metadata": {},
   "outputs": [
    {
     "name": "stdout",
     "output_type": "stream",
     "text": [
      "131 is prime\n"
     ]
    }
   ],
   "source": [
    "file = open('AIML008.txt', 'r')\n",
    "a = int(file.read())\n",
    "for i in range(2, a):\n",
    "    if (a % i) == 0:\n",
    "        print(f\"{a} is not prime\")\n",
    "        break\n",
    "else:\n",
    "    print(f\"{a} is prime\")\n",
    "    "
   ]
  },
  {
   "cell_type": "code",
   "execution_count": 64,
   "id": "b35db2af",
   "metadata": {},
   "outputs": [
    {
     "name": "stdout",
     "output_type": "stream",
     "text": [
      "M is a consonant\n",
      "y is a consonant\n",
      "  is a space\n",
      "n is a consonant\n",
      "a is a vowel\n",
      "m is a consonant\n",
      "e is a vowel\n",
      "  is a space\n",
      "i is a vowel\n",
      "s is a consonant\n",
      "  is a space\n",
      "S is a consonant\n",
      "u is a vowel\n",
      "b is a consonant\n",
      "h is a consonant\n",
      "a is a vowel\n",
      "y is a consonant\n",
      "a is a vowel\n",
      "n is a consonant\n",
      "  is a space\n",
      "6\n",
      "10\n"
     ]
    }
   ],
   "source": [
    "file = open('AIML008.txt', 'r')\n",
    "vowel = 0\n",
    "consonant = 0\n",
    "a = file.read()\n",
    "for i in a:\n",
    "    if (i == 'a'or i == 'A' or i =='e'or i == 'E' or i == 'i'or i == 'I' or i == 'o' or i == 'O' or i == 'u'or i == 'U'):\n",
    "        print(f\"{i} is a vowel\")\n",
    "        vowel = vowel + 1\n",
    "    elif (i == \" \"):\n",
    "        print(f\"{i} is a space\")\n",
    "    else:\n",
    "        print(f\"{i} is a consonant\")\n",
    "        consonant = consonant + 1\n",
    "print(vowel)\n",
    "print(consonant)"
   ]
  },
  {
   "cell_type": "code",
   "execution_count": 73,
   "id": "fececde5",
   "metadata": {},
   "outputs": [],
   "source": [
    "file = open('AIML008.txt', 'w')\n",
    "file.write(\"Hello... \")\n",
    "file.close()"
   ]
  },
  {
   "cell_type": "code",
   "execution_count": 66,
   "id": "796aa332",
   "metadata": {},
   "outputs": [],
   "source": [
    "a = open('Arnab.txt', 'w')\n",
    "a.write(\"Smart India Hackathon\")\n",
    "a.close()"
   ]
  },
  {
   "cell_type": "code",
   "execution_count": 74,
   "id": "bff4e7fe",
   "metadata": {},
   "outputs": [],
   "source": [
    "file = open('AIML008.txt', 'a')\n",
    "file.write(\"How are You \")\n",
    "file.close()"
   ]
  },
  {
   "cell_type": "code",
   "execution_count": 82,
   "id": "81d6f940",
   "metadata": {},
   "outputs": [
    {
     "name": "stdout",
     "output_type": "stream",
     "text": [
      "Enter Maximum Number of Numbers you want to Enter5\n",
      "Enter the Number89\n",
      "Enter the Number41\n",
      "Enter the Number75\n",
      "Enter the Number36\n",
      "Enter the Number25\n"
     ]
    }
   ],
   "source": [
    "file = open('AIML008.txt', 'a')\n",
    "n = int(input(\"Enter Maximum Number of Numbers you want to Enter\"))\n",
    "for i in range (0, n):\n",
    "    a = str(input(\"Enter the Number\"))\n",
    "    file.write(a)\n",
    "file.close()"
   ]
  },
  {
   "cell_type": "code",
   "execution_count": 83,
   "id": "57fd80ac",
   "metadata": {},
   "outputs": [
    {
     "name": "stdout",
     "output_type": "stream",
     "text": [
      "Hello... How are You 568713458891041362548941753625\n"
     ]
    }
   ],
   "source": [
    "file = open('AIML008.txt', 'r')\n",
    "print(file.read())"
   ]
  },
  {
   "cell_type": "code",
   "execution_count": 92,
   "id": "2449be41",
   "metadata": {},
   "outputs": [
    {
     "name": "stdout",
     "output_type": "stream",
     "text": [
      "69 is the number of words\n"
     ]
    }
   ],
   "source": [
    "file = open('AIML008.txt', 'r')\n",
    "count = 0\n",
    "a = file.read()\n",
    "for i in a:\n",
    "    if (i == \" \"):\n",
    "        count = count + 1\n",
    "print(f\"{count} is the number of words\")\n"
   ]
  },
  {
   "cell_type": "markdown",
   "id": "14599fb4",
   "metadata": {},
   "source": [
    "# 18.03.2024"
   ]
  },
  {
   "cell_type": "code",
   "execution_count": 2,
   "id": "cf0ebb2b",
   "metadata": {},
   "outputs": [],
   "source": [
    "# GUI Programming usinG Tkinter\n",
    "\n",
    "import tkinter\n",
    "top = tkinter.Tk()\n",
    "top.mainloop()"
   ]
  },
  {
   "cell_type": "code",
   "execution_count": 55,
   "id": "44e2e9e8",
   "metadata": {},
   "outputs": [],
   "source": [
    "from tkinter import *\n",
    "root = Tk()\n",
    "root.title(\"Hello Python\")\n",
    "#root.config(bg = \"seagreen\" )\n",
    "class Mywindow:\n",
    "    def __init__(self,master):\n",
    "        \n",
    "        self.l1 = Label(master, text = \"Enter 1st Number:\", font = (\"Times New Roman\", 15, \"bold\"))\n",
    "        self.l1.place(x = 10, y = 50)\n",
    "        self.t1 = Entry(bd = 3, font = (\"arial\", 12, \"bold\"))\n",
    "        self.t1.place(x = 250, y = 50)\n",
    "        \n",
    "        \n",
    "        self.l2 = Label(master, text = \"Enter 2nd Number:\", font = (\"Times New Roman\", 15, \"bold\"))\n",
    "        self.l2.place(x = 10, y = 100)\n",
    "        self.t2 = Entry(bd = 3, font = (\"arial\", 12, \"bold\"))\n",
    "        self.t2.place(x = 250, y = 100)\n",
    "        \n",
    "        self.l3 = Label(master, text = \"Sum of Two Numbers is:\", font = (\"Times New Roman\", 15, \"bold\"))\n",
    "        self.l3.place(x = 10, y = 150)\n",
    "        self.t3 = Entry(bd = 3, font = (\"arial\", 12, \"bold\"))\n",
    "        self.t3.place(x = 250, y = 150)\n",
    "        \n",
    "        \n",
    "\n",
    "       \n",
    "        \n",
    "        \n",
    "        \n",
    "        \n",
    "mywin = Mywindow(root)\n",
    "root.mainloop()"
   ]
  },
  {
   "cell_type": "code",
   "execution_count": null,
   "id": "5d944672",
   "metadata": {},
   "outputs": [],
   "source": []
  },
  {
   "cell_type": "code",
   "execution_count": null,
   "id": "dcd51328",
   "metadata": {},
   "outputs": [],
   "source": []
  },
  {
   "cell_type": "code",
   "execution_count": null,
   "id": "36400354",
   "metadata": {},
   "outputs": [],
   "source": []
  },
  {
   "cell_type": "code",
   "execution_count": null,
   "id": "9fe714cf",
   "metadata": {},
   "outputs": [],
   "source": []
  },
  {
   "cell_type": "code",
   "execution_count": null,
   "id": "131ad61d",
   "metadata": {},
   "outputs": [],
   "source": []
  },
  {
   "cell_type": "code",
   "execution_count": null,
   "id": "4a7109b9",
   "metadata": {},
   "outputs": [],
   "source": []
  },
  {
   "cell_type": "code",
   "execution_count": null,
   "id": "ed60fa37",
   "metadata": {},
   "outputs": [],
   "source": []
  },
  {
   "cell_type": "code",
   "execution_count": null,
   "id": "c28e7688",
   "metadata": {},
   "outputs": [],
   "source": []
  },
  {
   "cell_type": "code",
   "execution_count": null,
   "id": "169b5ecc",
   "metadata": {},
   "outputs": [],
   "source": []
  },
  {
   "cell_type": "code",
   "execution_count": null,
   "id": "925c5e08",
   "metadata": {},
   "outputs": [],
   "source": []
  },
  {
   "cell_type": "code",
   "execution_count": null,
   "id": "ec3b76dd",
   "metadata": {},
   "outputs": [],
   "source": []
  },
  {
   "cell_type": "code",
   "execution_count": null,
   "id": "f2180f6e",
   "metadata": {},
   "outputs": [],
   "source": []
  },
  {
   "cell_type": "code",
   "execution_count": null,
   "id": "cf8beba2",
   "metadata": {},
   "outputs": [],
   "source": []
  }
 ],
 "metadata": {
  "kernelspec": {
   "display_name": "Python 3 (ipykernel)",
   "language": "python",
   "name": "python3"
  },
  "language_info": {
   "codemirror_mode": {
    "name": "ipython",
    "version": 3
   },
   "file_extension": ".py",
   "mimetype": "text/x-python",
   "name": "python",
   "nbconvert_exporter": "python",
   "pygments_lexer": "ipython3",
   "version": "3.9.12"
  }
 },
 "nbformat": 4,
 "nbformat_minor": 5
}
